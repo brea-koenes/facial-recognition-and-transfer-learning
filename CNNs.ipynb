{
 "cells": [
  {
   "cell_type": "markdown",
   "id": "01375c32",
   "metadata": {
    "id": "01375c32"
   },
   "source": [
    "# Convolutional Neural Networks\n",
    "\n",
    "#### Exploring transfer learning for image recognition\n",
    "\n",
    "## By Brea koenes"
   ]
  },
  {
   "cell_type": "markdown",
   "id": "b249b051",
   "metadata": {
    "id": "b249b051"
   },
   "source": [
    "### Overview\n",
    "\n",
    "The [`CIFAR10` dataset](https://keras.io/api/datasets/cifar10/) contains 50,000 32 $\\times$ 32 colored images of the things listed below. \n",
    "\n",
    "| Label    | Description |\n",
    "| -------- | -------|\n",
    "| 0 | airplane    |\n",
    "| 1 | automobile     |\n",
    "| 2 | bird    |\n",
    "| 3 | cat    |\n",
    "| 4 | deer    |\n",
    "| 5 | dog    |\n",
    "| 6 | frog    |\n",
    "| 7 | horse    |\n",
    "| 8 | ship    |\n",
    "| 9 | truck    |\n",
    "\n",
    "The `base_model` contains a CNN that was trained on over 17,000 CIFAR10 images, none of which contained a horse, ship, or truck. I use the bottleneck layers of the `base_model`, along with transfer learning to build a network that can classify all 10 categories of the images in the CIFAR10 dataset."
   ]
  },
  {
   "cell_type": "markdown",
   "id": "79ce8065-0981-41dc-b06e-1e52b8a974c8",
   "metadata": {},
   "source": [
    "### Imports"
   ]
  },
  {
   "cell_type": "code",
   "execution_count": 18,
   "id": "6f940fab-8cc5-49ab-a18c-f589c92bdf79",
   "metadata": {},
   "outputs": [],
   "source": [
    "# Imports, ensure Tensorflow 2.9.2 is downloaded\n",
    "import subprocess\n",
    "import sys\n",
    "from IPython.display import clear_output\n",
    "import numpy as np\n",
    "import pandas as pd\n",
    "from tensorflow.keras.models import load_model"
   ]
  },
  {
   "cell_type": "markdown",
   "id": "824bea7e",
   "metadata": {
    "id": "824bea7e"
   },
   "source": [
    "### Data and Model Prep\n",
    "\n",
    "Load the `base_model` and the data."
   ]
  },
  {
   "cell_type": "code",
   "execution_count": 19,
   "id": "8d50001a",
   "metadata": {},
   "outputs": [],
   "source": [
    "# Load base model\n",
    "base_model = load_model('base_model3.h5')"
   ]
  },
  {
   "cell_type": "code",
   "execution_count": 20,
   "id": "e99f1237",
   "metadata": {},
   "outputs": [],
   "source": [
    "# Load test and train data\n",
    "x_train = np.loadtxt('data/x_train.txt').reshape(32516, 32, 32, 3)\n",
    "y_train = np.loadtxt('data/y_train.txt')\n",
    "x_test = np.loadtxt('data/x_test.txt').reshape(6512, 32, 32, 3)\n",
    "y_test = np.loadtxt('data/y_test.txt')"
   ]
  },
  {
   "cell_type": "markdown",
   "id": "8b8e5e73",
   "metadata": {},
   "source": [
    "Test the `base_model` to load and display a sample image of a ship from the test dataset. Use the `base_model` to make a prediction about the object contained in the sample image."
   ]
  },
  {
   "cell_type": "code",
   "execution_count": 21,
   "id": "e4ec8309",
   "metadata": {},
   "outputs": [
    {
     "name": "stdout",
     "output_type": "stream",
     "text": [
      "8.0\n"
     ]
    },
    {
     "data": {
      "text/plain": [
       "<matplotlib.image.AxesImage at 0x300c6e5e0>"
      ]
     },
     "execution_count": 21,
     "metadata": {},
     "output_type": "execute_result"
    },
    {
     "data": {
      "image/png": "[encoded data removed]",
      "text/plain": [
       "<Figure size 640x480 with 1 Axes>"
      ]
     },
     "metadata": {},
     "output_type": "display_data"
    }
   ],
   "source": [
    "# Print image\n",
    "%matplotlib inline\n",
    "import matplotlib.pyplot as plt\n",
    "x = x_test[0]\n",
    "\n",
    "print(y_test[0])\n",
    "plt.xticks([])\n",
    "plt.yticks([])\n",
    "plt.imshow(x)"
   ]
  },
  {
   "cell_type": "code",
   "execution_count": 22,
   "id": "1221f816",
   "metadata": {},
   "outputs": [
    {
     "name": "stdout",
     "output_type": "stream",
     "text": [
      "1/1 [==============================] - 0s 21ms/step\n"
     ]
    },
    {
     "data": {
      "text/plain": [
       "array([[1.0781821e-01, 8.9212835e-01, 4.9011473e-05, 3.9390557e-06,\n",
       "        2.2663505e-07, 1.6919410e-07, 2.2266289e-09]], dtype=float32)"
      ]
     },
     "execution_count": 22,
     "metadata": {},
     "output_type": "execute_result"
    }
   ],
   "source": [
    "from tensorflow.keras.preprocessing import image\n",
    "\n",
    "# Preprocess the image\n",
    "x = image.img_to_array(x_test[0])\n",
    "x = np.expand_dims(x, axis=0)\n",
    "\n",
    "# Make prediction about sample image\n",
    "y = base_model.predict(x)\n",
    "y"
   ]
  },
  {
   "cell_type": "markdown",
   "id": "00a0ffe1",
   "metadata": {},
   "source": [
    "Use transfer learning to create a domain-specific model that can classify images of horses, ships, and trucks in addition to the rest of the images that the `base_model` was trained on."
   ]
  },
  {
   "cell_type": "code",
   "execution_count": 23,
   "id": "a989df97",
   "metadata": {},
   "outputs": [],
   "source": [
    "from tensorflow.keras.models import Model\n",
    "\n",
    "# Extract bottleneck layers from the `base_model`\n",
    "model = Model(inputs = base_model.layers[0].input, outputs = base_model.layers[3].output)"
   ]
  },
  {
   "cell_type": "markdown",
   "id": "67aeeb92",
   "metadata": {},
   "source": [
    "### Transfer Learning\n",
    "\n",
    "Create the classification layers for transfer learning and train them."
   ]
  },
  {
   "cell_type": "code",
   "execution_count": 24,
   "id": "2d67c0b5",
   "metadata": {},
   "outputs": [
    {
     "name": "stdout",
     "output_type": "stream",
     "text": [
      "1017/1017 [==============================] - 2s 1ms/step\n",
      "204/204 [==============================] - 0s 2ms/step\n"
     ]
    }
   ],
   "source": [
    "# Run all of the training images through the base model for feature extraction\n",
    "x_train = model.predict(x_train)\n",
    "x_test = model.predict(x_test)"
   ]
  },
  {
   "cell_type": "code",
   "execution_count": 25,
   "id": "621eebc1-cac6-4902-8f9c-4c357d2e1bc3",
   "metadata": {},
   "outputs": [
    {
     "name": "stdout",
     "output_type": "stream",
     "text": [
      "Epoch 1/10\n",
      "3252/3252 [==============================] - 3s 986us/step - loss: 1.0813 - accuracy: 0.6211 - val_loss: 0.9728 - val_accuracy: 0.6625\n",
      "Epoch 2/10\n",
      "3252/3252 [==============================] - 4s 1ms/step - loss: 0.8208 - accuracy: 0.7136 - val_loss: 0.9021 - val_accuracy: 0.6906\n",
      "Epoch 3/10\n",
      "3252/3252 [==============================] - 3s 992us/step - loss: 0.6687 - accuracy: 0.7678 - val_loss: 0.8817 - val_accuracy: 0.6970\n",
      "Epoch 4/10\n",
      "3252/3252 [==============================] - 3s 1ms/step - loss: 0.5387 - accuracy: 0.8141 - val_loss: 0.8799 - val_accuracy: 0.7053\n",
      "Epoch 5/10\n",
      "3252/3252 [==============================] - 3s 891us/step - loss: 0.4273 - accuracy: 0.8499 - val_loss: 0.9471 - val_accuracy: 0.7047\n",
      "Epoch 6/10\n",
      "3252/3252 [==============================] - 3s 891us/step - loss: 0.3205 - accuracy: 0.8909 - val_loss: 1.0680 - val_accuracy: 0.7002\n",
      "Epoch 7/10\n",
      "3252/3252 [==============================] - 3s 826us/step - loss: 0.2424 - accuracy: 0.9187 - val_loss: 1.1218 - val_accuracy: 0.7025\n",
      "Epoch 8/10\n",
      "3252/3252 [==============================] - 3s 837us/step - loss: 0.1820 - accuracy: 0.9375 - val_loss: 1.2461 - val_accuracy: 0.6952\n",
      "Epoch 9/10\n",
      "3252/3252 [==============================] - 3s 849us/step - loss: 0.1401 - accuracy: 0.9531 - val_loss: 1.3889 - val_accuracy: 0.6959\n",
      "Epoch 10/10\n",
      "3252/3252 [==============================] - 3s 943us/step - loss: 0.1098 - accuracy: 0.9643 - val_loss: 1.4474 - val_accuracy: 0.7027\n"
     ]
    }
   ],
   "source": [
    "# Create network of classification layers and run the features through the model\n",
    "from tensorflow.keras.models import Sequential\n",
    "from tensorflow.keras.layers import Dense, Flatten, Dropout\n",
    "from tensorflow.keras.metrics import Recall\n",
    "\n",
    "# Create classification layers\n",
    "classification = Sequential()\n",
    "classification.add(Flatten())\n",
    "classification.add(Dense(256, activation='relu'))\n",
    "classification.add(Dense(10, activation='softmax'))\n",
    "classification.compile(optimizer='adam', loss='sparse_categorical_crossentropy', metrics=['accuracy'])\n",
    "\n",
    "# Run the features through the classification layers\n",
    "hist = classification.fit(x_train, y_train, validation_data=(x_test, y_test), epochs=10, batch_size=10)"
   ]
  },
  {
   "cell_type": "markdown",
   "id": "873c9aa0",
   "metadata": {},
   "source": [
    "Plot the training and validation accuracy."
   ]
  },
  {
   "cell_type": "code",
   "execution_count": 26,
   "id": "c54aeb90-8a9c-4b9b-9e9a-12bb9d441b96",
   "metadata": {},
   "outputs": [
    {
     "data": {
      "text/plain": [
       "[]"
      ]
     },
     "execution_count": 26,
     "metadata": {},
     "output_type": "execute_result"
    },
    {
     "data": {
      "image/png": "[encoded data removed]",
      "text/plain": [
       "<Figure size 640x480 with 1 Axes>"
      ]
     },
     "metadata": {},
     "output_type": "display_data"
    }
   ],
   "source": [
    "import seaborn as sns\n",
    "\n",
    "sns.set()\n",
    "\n",
    "acc = hist.history['accuracy']\n",
    "val_acc = hist.history['val_accuracy']\n",
    "epochs = range(1, len(acc) + 1)\n",
    "\n",
    "plt.plot(epochs, acc, '-', label='Training Accuracy')\n",
    "plt.plot(epochs, val_acc, ':', label='Validation Accuracy')\n",
    "plt.title('Training and Validation Accuracy')\n",
    "plt.xlabel('Epoch')\n",
    "plt.ylabel('Accuracy')\n",
    "plt.legend(loc='lower right')\n",
    "plt.plot()"
   ]
  },
  {
   "cell_type": "markdown",
   "id": "fbab116c",
   "metadata": {},
   "source": [
    "Check to ensure the new model correctly classifies the sample image of a ship."
   ]
  },
  {
   "cell_type": "code",
   "execution_count": 27,
   "id": "fdf42c0c",
   "metadata": {},
   "outputs": [
    {
     "name": "stdout",
     "output_type": "stream",
     "text": [
      "1/1 [==============================] - 0s 14ms/step\n",
      "Predicted Label: 8\n"
     ]
    }
   ],
   "source": [
    "# Preprocess the image for prediction\n",
    "x_sample = np.expand_dims(x_test[0], axis=0)  \n",
    "\n",
    "# Pass the features through the classification layers\n",
    "y_pred = classification.predict(x_sample)\n",
    "\n",
    "# Get the predicted label\n",
    "predicted_label = np.argmax(y_pred)\n",
    "print(f\"Predicted Label: {predicted_label}\")"
   ]
  },
  {
   "cell_type": "markdown",
   "id": "6bc89645-8f5f-4a74-bc22-2573bdb63d91",
   "metadata": {},
   "source": [
    "### Export Models\n",
    "\n",
    "Export Classification and CNN models"
   ]
  },
  {
   "cell_type": "code",
   "execution_count": 28,
   "id": "b2b13774-b50c-451a-a172-4c7bc9c05c98",
   "metadata": {},
   "outputs": [],
   "source": [
    "# Compile model\n",
    "model.compile(optimizer='adam', loss='sparse_categorical_crossentropy', metrics=['accuracy'])"
   ]
  },
  {
   "cell_type": "code",
   "execution_count": 29,
   "id": "7324e76c",
   "metadata": {},
   "outputs": [],
   "source": [
    "# Export classification model\n",
    "classification.save('classification_model.h5')\n",
    "\n",
    "# Export CNN model\n",
    "model.save('CNN_model.h5')"
   ]
  }
 ],
 "metadata": {
  "colab": {
   "provenance": []
  },
  "kernelspec": {
   "display_name": "dtsc680",
   "language": "python",
   "name": "dtsc680"
  },
  "language_info": {
   "codemirror_mode": {
    "name": "ipython",
    "version": 3
   },
   "file_extension": ".py",
   "mimetype": "text/x-python",
   "name": "python",
   "nbconvert_exporter": "python",
   "pygments_lexer": "ipython3",
   "version": "3.8.20"
  }
 },
 "nbformat": 4,
 "nbformat_minor": 5
}
